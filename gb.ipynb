{
 "cells": [
  {
   "cell_type": "code",
   "execution_count": 1,
   "metadata": {},
   "outputs": [],
   "source": [
    "from dotenv import load_dotenv\n",
    "load_dotenv('/home/hk-project-pai00028/tum_mhj8661/code/geobreeze/.env')\n",
    "%load_ext autoreload\n",
    "%autoreload 2"
   ]
  },
  {
   "cell_type": "code",
   "execution_count": 27,
   "metadata": {},
   "outputs": [
    {
     "name": "stdout",
     "output_type": "stream",
     "text": [
      "{'_target_': 'K.RandomHorizontalFlip', 'p': 0.5}\n",
      "{'_target_': 'K.RandomVerticalFlip', 'p': 0.5}\n",
      "{'_target_': 'K.Resize', 'size': 224, 'keepdim': True}\n"
     ]
    }
   ],
   "source": [
    "from geobreeze.factory import make_dataset\n",
    "from omegaconf import OmegaConf\n",
    "\n",
    "p = '/hkfs/work/workspace/scratch/tum_mhj8661-panopticon/dino_logs/debug/eval/1/k=None_T=None_norm=None/config.yaml'\n",
    "cfg = OmegaConf.load(p)\n",
    "\n",
    "ds = make_dataset(cfg.data.train)"
   ]
  },
  {
   "cell_type": "code",
   "execution_count": 32,
   "metadata": {},
   "outputs": [
    {
     "data": {
      "text/plain": [
       "torch.Size([1, 3, 224, 224])"
      ]
     },
     "execution_count": 32,
     "metadata": {},
     "output_type": "execute_result"
    }
   ],
   "source": [
    "ds[0][0]['imgs'].shape"
   ]
  },
  {
   "cell_type": "code",
   "execution_count": null,
   "metadata": {},
   "outputs": [],
   "source": []
  },
  {
   "cell_type": "code",
   "execution_count": 4,
   "metadata": {},
   "outputs": [],
   "source": [
    "sample = ds.dataset[0]"
   ]
  },
  {
   "cell_type": "code",
   "execution_count": 6,
   "metadata": {},
   "outputs": [],
   "source": [
    "x, band_names = sample.pack_to_3d(\n",
    "            band_names=None,\n",
    "            resample=False,\n",
    "            fill_value=None,\n",
    "            resample_order=3,)"
   ]
  },
  {
   "cell_type": "code",
   "execution_count": 9,
   "metadata": {},
   "outputs": [
    {
     "data": {
      "text/plain": [
       "torch.Size([3, 320, 320])"
      ]
     },
     "execution_count": 9,
     "metadata": {},
     "output_type": "execute_result"
    }
   ],
   "source": [
    "import torch\n",
    "x = torch.from_numpy(x.astype(\"float32\")).permute(2, 0, 1)\n",
    "x.shape"
   ]
  },
  {
   "cell_type": "code",
   "execution_count": 10,
   "metadata": {},
   "outputs": [
    {
     "data": {
      "text/plain": [
       "Sequential(\n",
       "  (0): RandomHorizontalFlip(p=0.5, p_batch=1.0, same_on_batch=False)\n",
       "  (1): RandomVerticalFlip(p=0.5, p_batch=1.0, same_on_batch=False)\n",
       "  (2): RandomResizedCrop(scale=[0.8, 1.0], resize_to=(0.75, 1.3333333333333333), output_size=[224, 224], p=1.0, p_batch=1.0, same_on_batch=False, size=[224, 224], resample=bilinear, align_corners=True, cropping_mode=slice, padding_mode=zeros)\n",
       ")"
      ]
     },
     "execution_count": 10,
     "metadata": {},
     "output_type": "execute_result"
    }
   ],
   "source": [
    "ds.transform"
   ]
  },
  {
   "cell_type": "code",
   "execution_count": 11,
   "metadata": {},
   "outputs": [
    {
     "ename": "TypeError",
     "evalue": "upsample_bilinear2d() received an invalid combination of arguments - got (Tensor, list, bool, NoneType), but expected one of:\n * (Tensor input, tuple of ints output_size, bool align_corners, tuple of floats scale_factors)\n      didn't match because some of the arguments have invalid types: (Tensor, !list of [ListConfig, ListConfig]!, bool, !NoneType!)\n * (Tensor input, tuple of ints output_size, bool align_corners, float scales_h, float scales_w, *, Tensor out)\n",
     "output_type": "error",
     "traceback": [
      "\u001b[31m---------------------------------------------------------------------------\u001b[39m",
      "\u001b[31mTypeError\u001b[39m                                 Traceback (most recent call last)",
      "\u001b[36mCell\u001b[39m\u001b[36m \u001b[39m\u001b[32mIn[11]\u001b[39m\u001b[32m, line 1\u001b[39m\n\u001b[32m----> \u001b[39m\u001b[32m1\u001b[39m \u001b[43mds\u001b[49m\u001b[43m[\u001b[49m\u001b[32;43m0\u001b[39;49m\u001b[43m]\u001b[49m\n",
      "\u001b[36mFile \u001b[39m\u001b[32m/hkfs/home/project/hk-project-pai00028/tum_mhj8661/code/geobreeze/geobreeze/datasets/base_dataset.py:26\u001b[39m, in \u001b[36mBaseDataset.__getitem__\u001b[39m\u001b[34m(self, idx)\u001b[39m\n\u001b[32m     25\u001b[39m \u001b[38;5;28;01mdef\u001b[39;00m\u001b[38;5;250m \u001b[39m\u001b[34m__getitem__\u001b[39m(\u001b[38;5;28mself\u001b[39m, idx):\n\u001b[32m---> \u001b[39m\u001b[32m26\u001b[39m     x, label = \u001b[38;5;28;43mself\u001b[39;49m\u001b[43m.\u001b[49m\u001b[43m_getitem\u001b[49m\u001b[43m(\u001b[49m\u001b[43midx\u001b[49m\u001b[43m)\u001b[49m\n\u001b[32m     27\u001b[39m     chn_ids = \u001b[38;5;28mself\u001b[39m.chn_ids\n\u001b[32m     29\u001b[39m     \u001b[38;5;66;03m# subsample bands\u001b[39;00m\n",
      "\u001b[36mFile \u001b[39m\u001b[32m/hkfs/home/project/hk-project-pai00028/tum_mhj8661/code/geobreeze/geobreeze/datasets/geobench_wrapper.py:74\u001b[39m, in \u001b[36mGeoBenchDataset._getitem\u001b[39m\u001b[34m(self, idx)\u001b[39m\n\u001b[32m     66\u001b[39m x, band_names = sample.pack_to_3d(\n\u001b[32m     67\u001b[39m     band_names=\u001b[38;5;28;01mNone\u001b[39;00m,\n\u001b[32m     68\u001b[39m     resample=\u001b[38;5;28;01mFalse\u001b[39;00m,\n\u001b[32m     69\u001b[39m     fill_value=\u001b[38;5;28;01mNone\u001b[39;00m,\n\u001b[32m     70\u001b[39m     resample_order=\u001b[32m3\u001b[39m,\n\u001b[32m     71\u001b[39m )  \u001b[38;5;66;03m# h,w,c\u001b[39;00m\n\u001b[32m     72\u001b[39m x = torch.from_numpy(x.astype(\u001b[33m\"\u001b[39m\u001b[33mfloat32\u001b[39m\u001b[33m\"\u001b[39m)).permute(\u001b[32m2\u001b[39m, \u001b[32m0\u001b[39m, \u001b[32m1\u001b[39m)\n\u001b[32m---> \u001b[39m\u001b[32m74\u001b[39m x = \u001b[38;5;28;43mself\u001b[39;49m\u001b[43m.\u001b[49m\u001b[43mtransform\u001b[49m\u001b[43m(\u001b[49m\u001b[43mx\u001b[49m\u001b[43m)\u001b[49m\n\u001b[32m     75\u001b[39m x = \u001b[38;5;28mself\u001b[39m.norm(x)\n\u001b[32m     77\u001b[39m \u001b[38;5;28;01mreturn\u001b[39;00m x, label\n",
      "\u001b[36mFile \u001b[39m\u001b[32m~/miniforge3/envs/eval/lib/python3.11/site-packages/torch/nn/modules/module.py:1518\u001b[39m, in \u001b[36mModule._wrapped_call_impl\u001b[39m\u001b[34m(self, *args, **kwargs)\u001b[39m\n\u001b[32m   1516\u001b[39m     \u001b[38;5;28;01mreturn\u001b[39;00m \u001b[38;5;28mself\u001b[39m._compiled_call_impl(*args, **kwargs)  \u001b[38;5;66;03m# type: ignore[misc]\u001b[39;00m\n\u001b[32m   1517\u001b[39m \u001b[38;5;28;01melse\u001b[39;00m:\n\u001b[32m-> \u001b[39m\u001b[32m1518\u001b[39m     \u001b[38;5;28;01mreturn\u001b[39;00m \u001b[38;5;28;43mself\u001b[39;49m\u001b[43m.\u001b[49m\u001b[43m_call_impl\u001b[49m\u001b[43m(\u001b[49m\u001b[43m*\u001b[49m\u001b[43margs\u001b[49m\u001b[43m,\u001b[49m\u001b[43m \u001b[49m\u001b[43m*\u001b[49m\u001b[43m*\u001b[49m\u001b[43mkwargs\u001b[49m\u001b[43m)\u001b[49m\n",
      "\u001b[36mFile \u001b[39m\u001b[32m~/miniforge3/envs/eval/lib/python3.11/site-packages/torch/nn/modules/module.py:1527\u001b[39m, in \u001b[36mModule._call_impl\u001b[39m\u001b[34m(self, *args, **kwargs)\u001b[39m\n\u001b[32m   1522\u001b[39m \u001b[38;5;66;03m# If we don't have any hooks, we want to skip the rest of the logic in\u001b[39;00m\n\u001b[32m   1523\u001b[39m \u001b[38;5;66;03m# this function, and just call forward.\u001b[39;00m\n\u001b[32m   1524\u001b[39m \u001b[38;5;28;01mif\u001b[39;00m \u001b[38;5;129;01mnot\u001b[39;00m (\u001b[38;5;28mself\u001b[39m._backward_hooks \u001b[38;5;129;01mor\u001b[39;00m \u001b[38;5;28mself\u001b[39m._backward_pre_hooks \u001b[38;5;129;01mor\u001b[39;00m \u001b[38;5;28mself\u001b[39m._forward_hooks \u001b[38;5;129;01mor\u001b[39;00m \u001b[38;5;28mself\u001b[39m._forward_pre_hooks\n\u001b[32m   1525\u001b[39m         \u001b[38;5;129;01mor\u001b[39;00m _global_backward_pre_hooks \u001b[38;5;129;01mor\u001b[39;00m _global_backward_hooks\n\u001b[32m   1526\u001b[39m         \u001b[38;5;129;01mor\u001b[39;00m _global_forward_hooks \u001b[38;5;129;01mor\u001b[39;00m _global_forward_pre_hooks):\n\u001b[32m-> \u001b[39m\u001b[32m1527\u001b[39m     \u001b[38;5;28;01mreturn\u001b[39;00m \u001b[43mforward_call\u001b[49m\u001b[43m(\u001b[49m\u001b[43m*\u001b[49m\u001b[43margs\u001b[49m\u001b[43m,\u001b[49m\u001b[43m \u001b[49m\u001b[43m*\u001b[49m\u001b[43m*\u001b[49m\u001b[43mkwargs\u001b[49m\u001b[43m)\u001b[49m\n\u001b[32m   1529\u001b[39m \u001b[38;5;28;01mtry\u001b[39;00m:\n\u001b[32m   1530\u001b[39m     result = \u001b[38;5;28;01mNone\u001b[39;00m\n",
      "\u001b[36mFile \u001b[39m\u001b[32m~/miniforge3/envs/eval/lib/python3.11/site-packages/torch/nn/modules/container.py:215\u001b[39m, in \u001b[36mSequential.forward\u001b[39m\u001b[34m(self, input)\u001b[39m\n\u001b[32m    213\u001b[39m \u001b[38;5;28;01mdef\u001b[39;00m\u001b[38;5;250m \u001b[39m\u001b[34mforward\u001b[39m(\u001b[38;5;28mself\u001b[39m, \u001b[38;5;28minput\u001b[39m):\n\u001b[32m    214\u001b[39m     \u001b[38;5;28;01mfor\u001b[39;00m module \u001b[38;5;129;01min\u001b[39;00m \u001b[38;5;28mself\u001b[39m:\n\u001b[32m--> \u001b[39m\u001b[32m215\u001b[39m         \u001b[38;5;28minput\u001b[39m = \u001b[43mmodule\u001b[49m\u001b[43m(\u001b[49m\u001b[38;5;28;43minput\u001b[39;49m\u001b[43m)\u001b[49m\n\u001b[32m    216\u001b[39m     \u001b[38;5;28;01mreturn\u001b[39;00m \u001b[38;5;28minput\u001b[39m\n",
      "\u001b[36mFile \u001b[39m\u001b[32m~/miniforge3/envs/eval/lib/python3.11/site-packages/kornia/core/module.py:302\u001b[39m, in \u001b[36mImageModule.__call__\u001b[39m\u001b[34m(self, input_names_to_handle, output_type, *inputs, **kwargs)\u001b[39m\n\u001b[32m    298\u001b[39m \u001b[38;5;28;01mif\u001b[39;00m \u001b[38;5;129;01mnot\u001b[39;00m \u001b[38;5;28mself\u001b[39m._disable_features:\n\u001b[32m    299\u001b[39m     decorated_forward = \u001b[38;5;28mself\u001b[39m.convert_input_output(\n\u001b[32m    300\u001b[39m         input_names_to_handle=input_names_to_handle, output_type=output_type\n\u001b[32m    301\u001b[39m     )(\u001b[38;5;28msuper\u001b[39m().\u001b[34m__call__\u001b[39m)\n\u001b[32m--> \u001b[39m\u001b[32m302\u001b[39m     _output_image = \u001b[43mdecorated_forward\u001b[49m\u001b[43m(\u001b[49m\u001b[43m*\u001b[49m\u001b[43minputs\u001b[49m\u001b[43m,\u001b[49m\u001b[43m \u001b[49m\u001b[43m*\u001b[49m\u001b[43m*\u001b[49m\u001b[43mkwargs\u001b[49m\u001b[43m)\u001b[49m\n\u001b[32m    303\u001b[39m     \u001b[38;5;28;01mif\u001b[39;00m output_type == \u001b[33m\"\u001b[39m\u001b[33mtensor\u001b[39m\u001b[33m\"\u001b[39m:\n\u001b[32m    304\u001b[39m         \u001b[38;5;28mself\u001b[39m._output_image = \u001b[38;5;28mself\u001b[39m._detach_tensor_to_cpu(_output_image)\n",
      "\u001b[36mFile \u001b[39m\u001b[32m~/miniforge3/envs/eval/lib/python3.11/site-packages/kornia/core/module.py:81\u001b[39m, in \u001b[36mImageModuleMixIn.convert_input_output.<locals>.decorator.<locals>.wrapper\u001b[39m\u001b[34m(*args, **kwargs)\u001b[39m\n\u001b[32m     78\u001b[39m             kwargs[name] = \u001b[38;5;28mself\u001b[39m.to_tensor(value)\n\u001b[32m     80\u001b[39m \u001b[38;5;66;03m# Call the actual forward method\u001b[39;00m\n\u001b[32m---> \u001b[39m\u001b[32m81\u001b[39m tensor_outputs = \u001b[43mfunc\u001b[49m\u001b[43m(\u001b[49m\u001b[43m*\u001b[49m\u001b[43margs\u001b[49m\u001b[43m,\u001b[49m\u001b[43m \u001b[49m\u001b[43m*\u001b[49m\u001b[43m*\u001b[49m\u001b[43mkwargs\u001b[49m\u001b[43m)\u001b[49m\n\u001b[32m     83\u001b[39m \u001b[38;5;28;01mif\u001b[39;00m \u001b[38;5;129;01mnot\u001b[39;00m \u001b[38;5;28misinstance\u001b[39m(tensor_outputs, (\u001b[38;5;28mtuple\u001b[39m,)):\n\u001b[32m     84\u001b[39m     tensor_outputs = (tensor_outputs,)\n",
      "\u001b[36mFile \u001b[39m\u001b[32m~/miniforge3/envs/eval/lib/python3.11/site-packages/torch/nn/modules/module.py:1518\u001b[39m, in \u001b[36mModule._wrapped_call_impl\u001b[39m\u001b[34m(self, *args, **kwargs)\u001b[39m\n\u001b[32m   1516\u001b[39m     \u001b[38;5;28;01mreturn\u001b[39;00m \u001b[38;5;28mself\u001b[39m._compiled_call_impl(*args, **kwargs)  \u001b[38;5;66;03m# type: ignore[misc]\u001b[39;00m\n\u001b[32m   1517\u001b[39m \u001b[38;5;28;01melse\u001b[39;00m:\n\u001b[32m-> \u001b[39m\u001b[32m1518\u001b[39m     \u001b[38;5;28;01mreturn\u001b[39;00m \u001b[38;5;28;43mself\u001b[39;49m\u001b[43m.\u001b[49m\u001b[43m_call_impl\u001b[49m\u001b[43m(\u001b[49m\u001b[43m*\u001b[49m\u001b[43margs\u001b[49m\u001b[43m,\u001b[49m\u001b[43m \u001b[49m\u001b[43m*\u001b[49m\u001b[43m*\u001b[49m\u001b[43mkwargs\u001b[49m\u001b[43m)\u001b[49m\n",
      "\u001b[36mFile \u001b[39m\u001b[32m~/miniforge3/envs/eval/lib/python3.11/site-packages/torch/nn/modules/module.py:1527\u001b[39m, in \u001b[36mModule._call_impl\u001b[39m\u001b[34m(self, *args, **kwargs)\u001b[39m\n\u001b[32m   1522\u001b[39m \u001b[38;5;66;03m# If we don't have any hooks, we want to skip the rest of the logic in\u001b[39;00m\n\u001b[32m   1523\u001b[39m \u001b[38;5;66;03m# this function, and just call forward.\u001b[39;00m\n\u001b[32m   1524\u001b[39m \u001b[38;5;28;01mif\u001b[39;00m \u001b[38;5;129;01mnot\u001b[39;00m (\u001b[38;5;28mself\u001b[39m._backward_hooks \u001b[38;5;129;01mor\u001b[39;00m \u001b[38;5;28mself\u001b[39m._backward_pre_hooks \u001b[38;5;129;01mor\u001b[39;00m \u001b[38;5;28mself\u001b[39m._forward_hooks \u001b[38;5;129;01mor\u001b[39;00m \u001b[38;5;28mself\u001b[39m._forward_pre_hooks\n\u001b[32m   1525\u001b[39m         \u001b[38;5;129;01mor\u001b[39;00m _global_backward_pre_hooks \u001b[38;5;129;01mor\u001b[39;00m _global_backward_hooks\n\u001b[32m   1526\u001b[39m         \u001b[38;5;129;01mor\u001b[39;00m _global_forward_hooks \u001b[38;5;129;01mor\u001b[39;00m _global_forward_pre_hooks):\n\u001b[32m-> \u001b[39m\u001b[32m1527\u001b[39m     \u001b[38;5;28;01mreturn\u001b[39;00m \u001b[43mforward_call\u001b[49m\u001b[43m(\u001b[49m\u001b[43m*\u001b[49m\u001b[43margs\u001b[49m\u001b[43m,\u001b[49m\u001b[43m \u001b[49m\u001b[43m*\u001b[49m\u001b[43m*\u001b[49m\u001b[43mkwargs\u001b[49m\u001b[43m)\u001b[49m\n\u001b[32m   1529\u001b[39m \u001b[38;5;28;01mtry\u001b[39;00m:\n\u001b[32m   1530\u001b[39m     result = \u001b[38;5;28;01mNone\u001b[39;00m\n",
      "\u001b[36mFile \u001b[39m\u001b[32m~/miniforge3/envs/eval/lib/python3.11/site-packages/kornia/augmentation/base.py:258\u001b[39m, in \u001b[36m_BasicAugmentationBase.forward\u001b[39m\u001b[34m(self, input, params, **kwargs)\u001b[39m\n\u001b[32m    254\u001b[39m     params[\u001b[33m\"\u001b[39m\u001b[33mbatch_prob\u001b[39m\u001b[33m\"\u001b[39m] = tensor([\u001b[38;5;28;01mTrue\u001b[39;00m] * batch_shape[\u001b[32m0\u001b[39m])\n\u001b[32m    256\u001b[39m params, flags = \u001b[38;5;28mself\u001b[39m._process_kwargs_to_params_and_flags(params, \u001b[38;5;28mself\u001b[39m.flags, **kwargs)\n\u001b[32m--> \u001b[39m\u001b[32m258\u001b[39m output = \u001b[38;5;28;43mself\u001b[39;49m\u001b[43m.\u001b[49m\u001b[43mapply_func\u001b[49m\u001b[43m(\u001b[49m\u001b[43min_tensor\u001b[49m\u001b[43m,\u001b[49m\u001b[43m \u001b[49m\u001b[43mparams\u001b[49m\u001b[43m,\u001b[49m\u001b[43m \u001b[49m\u001b[43mflags\u001b[49m\u001b[43m)\u001b[49m\n\u001b[32m    259\u001b[39m \u001b[38;5;28;01mreturn\u001b[39;00m \u001b[38;5;28mself\u001b[39m.transform_output_tensor(output, input_shape) \u001b[38;5;28;01mif\u001b[39;00m \u001b[38;5;28mself\u001b[39m.keepdim \u001b[38;5;28;01melse\u001b[39;00m output\n",
      "\u001b[36mFile \u001b[39m\u001b[32m~/miniforge3/envs/eval/lib/python3.11/site-packages/kornia/augmentation/_2d/base.py:148\u001b[39m, in \u001b[36mRigidAffineAugmentationBase2D.apply_func\u001b[39m\u001b[34m(self, in_tensor, params, flags)\u001b[39m\n\u001b[32m    145\u001b[39m     flags = \u001b[38;5;28mself\u001b[39m.flags\n\u001b[32m    147\u001b[39m trans_matrix = \u001b[38;5;28mself\u001b[39m.generate_transformation_matrix(in_tensor, params, flags)\n\u001b[32m--> \u001b[39m\u001b[32m148\u001b[39m output = \u001b[38;5;28;43mself\u001b[39;49m\u001b[43m.\u001b[49m\u001b[43mtransform_inputs\u001b[49m\u001b[43m(\u001b[49m\u001b[43min_tensor\u001b[49m\u001b[43m,\u001b[49m\u001b[43m \u001b[49m\u001b[43mparams\u001b[49m\u001b[43m,\u001b[49m\u001b[43m \u001b[49m\u001b[43mflags\u001b[49m\u001b[43m,\u001b[49m\u001b[43m \u001b[49m\u001b[43mtrans_matrix\u001b[49m\u001b[43m)\u001b[49m\n\u001b[32m    149\u001b[39m \u001b[38;5;28mself\u001b[39m._transform_matrix = trans_matrix\n\u001b[32m    151\u001b[39m \u001b[38;5;28;01mreturn\u001b[39;00m output\n",
      "\u001b[36mFile \u001b[39m\u001b[32m~/miniforge3/envs/eval/lib/python3.11/site-packages/kornia/augmentation/base.py:318\u001b[39m, in \u001b[36m_AugmentationBase.transform_inputs\u001b[39m\u001b[34m(self, input, params, flags, transform, **kwargs)\u001b[39m\n\u001b[32m    316\u001b[39m \u001b[38;5;28mself\u001b[39m.validate_tensor(in_tensor)\n\u001b[32m    317\u001b[39m \u001b[38;5;28;01mif\u001b[39;00m to_apply.all():\n\u001b[32m--> \u001b[39m\u001b[32m318\u001b[39m     output = \u001b[38;5;28;43mself\u001b[39;49m\u001b[43m.\u001b[49m\u001b[43mapply_transform\u001b[49m\u001b[43m(\u001b[49m\u001b[43min_tensor\u001b[49m\u001b[43m,\u001b[49m\u001b[43m \u001b[49m\u001b[43mparams\u001b[49m\u001b[43m,\u001b[49m\u001b[43m \u001b[49m\u001b[43mflags\u001b[49m\u001b[43m,\u001b[49m\u001b[43m \u001b[49m\u001b[43mtransform\u001b[49m\u001b[43m=\u001b[49m\u001b[43mtransform\u001b[49m\u001b[43m)\u001b[49m\n\u001b[32m    319\u001b[39m \u001b[38;5;28;01melif\u001b[39;00m \u001b[38;5;129;01mnot\u001b[39;00m to_apply.any():\n\u001b[32m    320\u001b[39m     output = \u001b[38;5;28mself\u001b[39m.apply_non_transform(in_tensor, params, flags, transform=transform)\n",
      "\u001b[36mFile \u001b[39m\u001b[32m~/miniforge3/envs/eval/lib/python3.11/site-packages/kornia/augmentation/_2d/geometric/resized_crop.py:127\u001b[39m, in \u001b[36mRandomResizedCrop.apply_transform\u001b[39m\u001b[34m(self, input, params, flags, transform)\u001b[39m\n\u001b[32m    118\u001b[39m     \u001b[38;5;28;01mreturn\u001b[39;00m crop_by_transform_mat(\n\u001b[32m    119\u001b[39m         \u001b[38;5;28minput\u001b[39m,\n\u001b[32m    120\u001b[39m         transform,\n\u001b[32m   (...)\u001b[39m\u001b[32m    124\u001b[39m         align_corners=flags[\u001b[33m\"\u001b[39m\u001b[33malign_corners\u001b[39m\u001b[33m\"\u001b[39m],\n\u001b[32m    125\u001b[39m     )\n\u001b[32m    126\u001b[39m \u001b[38;5;28;01mif\u001b[39;00m flags[\u001b[33m\"\u001b[39m\u001b[33mcropping_mode\u001b[39m\u001b[33m\"\u001b[39m] == \u001b[33m\"\u001b[39m\u001b[33mslice\u001b[39m\u001b[33m\"\u001b[39m:  \u001b[38;5;66;03m# uses advanced slicing to crop\u001b[39;00m\n\u001b[32m--> \u001b[39m\u001b[32m127\u001b[39m     \u001b[38;5;28;01mreturn\u001b[39;00m \u001b[43mcrop_by_indices\u001b[49m\u001b[43m(\u001b[49m\n\u001b[32m    128\u001b[39m \u001b[43m        \u001b[49m\u001b[38;5;28;43minput\u001b[39;49m\u001b[43m,\u001b[49m\n\u001b[32m    129\u001b[39m \u001b[43m        \u001b[49m\u001b[43mparams\u001b[49m\u001b[43m[\u001b[49m\u001b[33;43m\"\u001b[39;49m\u001b[33;43msrc\u001b[39;49m\u001b[33;43m\"\u001b[39;49m\u001b[43m]\u001b[49m\u001b[43m,\u001b[49m\n\u001b[32m    130\u001b[39m \u001b[43m        \u001b[49m\u001b[43mflags\u001b[49m\u001b[43m[\u001b[49m\u001b[33;43m\"\u001b[39;49m\u001b[33;43msize\u001b[39;49m\u001b[33;43m\"\u001b[39;49m\u001b[43m]\u001b[49m\u001b[43m,\u001b[49m\n\u001b[32m    131\u001b[39m \u001b[43m        \u001b[49m\u001b[43minterpolation\u001b[49m\u001b[43m=\u001b[49m\u001b[43mflags\u001b[49m\u001b[43m[\u001b[49m\u001b[33;43m\"\u001b[39;49m\u001b[33;43mresample\u001b[39;49m\u001b[33;43m\"\u001b[39;49m\u001b[43m]\u001b[49m\u001b[43m.\u001b[49m\u001b[43mname\u001b[49m\u001b[43m.\u001b[49m\u001b[43mlower\u001b[49m\u001b[43m(\u001b[49m\u001b[43m)\u001b[49m\u001b[43m,\u001b[49m\n\u001b[32m    132\u001b[39m \u001b[43m        \u001b[49m\u001b[43malign_corners\u001b[49m\u001b[43m=\u001b[49m\u001b[43mflags\u001b[49m\u001b[43m[\u001b[49m\u001b[33;43m\"\u001b[39;49m\u001b[33;43malign_corners\u001b[39;49m\u001b[33;43m\"\u001b[39;49m\u001b[43m]\u001b[49m\u001b[43m,\u001b[49m\n\u001b[32m    133\u001b[39m \u001b[43m    \u001b[49m\u001b[43m)\u001b[49m\n\u001b[32m    134\u001b[39m \u001b[38;5;28;01mraise\u001b[39;00m \u001b[38;5;167;01mNotImplementedError\u001b[39;00m(\u001b[33mf\u001b[39m\u001b[33m\"\u001b[39m\u001b[33mNot supported type: \u001b[39m\u001b[38;5;132;01m{\u001b[39;00mflags[\u001b[33m'\u001b[39m\u001b[33mcropping_mode\u001b[39m\u001b[33m'\u001b[39m]\u001b[38;5;132;01m}\u001b[39;00m\u001b[33m.\u001b[39m\u001b[33m\"\u001b[39m)\n",
      "\u001b[36mFile \u001b[39m\u001b[32m~/miniforge3/envs/eval/lib/python3.11/site-packages/kornia/geometry/transform/crop2d.py:355\u001b[39m, in \u001b[36mcrop_by_indices\u001b[39m\u001b[34m(input_tensor, src_box, size, interpolation, align_corners, antialias, shape_compensation)\u001b[39m\n\u001b[32m    353\u001b[39m     out = input_tensor[..., \u001b[38;5;28mint\u001b[39m(y1[\u001b[32m0\u001b[39m]) : \u001b[38;5;28mint\u001b[39m(y2[\u001b[32m0\u001b[39m]), \u001b[38;5;28mint\u001b[39m(x1[\u001b[32m0\u001b[39m]) : \u001b[38;5;28mint\u001b[39m(x2[\u001b[32m0\u001b[39m])]\n\u001b[32m    354\u001b[39m     \u001b[38;5;28;01mif\u001b[39;00m size \u001b[38;5;129;01mis\u001b[39;00m \u001b[38;5;129;01mnot\u001b[39;00m \u001b[38;5;28;01mNone\u001b[39;00m \u001b[38;5;129;01mand\u001b[39;00m out.shape[-\u001b[32m2\u001b[39m:] != size:\n\u001b[32m--> \u001b[39m\u001b[32m355\u001b[39m         \u001b[38;5;28;01mreturn\u001b[39;00m \u001b[43mresize\u001b[49m\u001b[43m(\u001b[49m\n\u001b[32m    356\u001b[39m \u001b[43m            \u001b[49m\u001b[43mout\u001b[49m\u001b[43m,\u001b[49m\u001b[43m \u001b[49m\u001b[43msize\u001b[49m\u001b[43m,\u001b[49m\u001b[43m \u001b[49m\u001b[43minterpolation\u001b[49m\u001b[43m=\u001b[49m\u001b[43minterpolation\u001b[49m\u001b[43m,\u001b[49m\u001b[43m \u001b[49m\u001b[43malign_corners\u001b[49m\u001b[43m=\u001b[49m\u001b[43malign_corners\u001b[49m\u001b[43m,\u001b[49m\u001b[43m \u001b[49m\u001b[43mside\u001b[49m\u001b[43m=\u001b[49m\u001b[33;43m\"\u001b[39;49m\u001b[33;43mshort\u001b[39;49m\u001b[33;43m\"\u001b[39;49m\u001b[43m,\u001b[49m\u001b[43m \u001b[49m\u001b[43mantialias\u001b[49m\u001b[43m=\u001b[49m\u001b[43mantialias\u001b[49m\n\u001b[32m    357\u001b[39m \u001b[43m        \u001b[49m\u001b[43m)\u001b[49m\n\u001b[32m    359\u001b[39m \u001b[38;5;28;01mif\u001b[39;00m size \u001b[38;5;129;01mis\u001b[39;00m \u001b[38;5;28;01mNone\u001b[39;00m:\n\u001b[32m    360\u001b[39m     h, w = infer_bbox_shape(src)\n",
      "\u001b[36mFile \u001b[39m\u001b[32m~/miniforge3/envs/eval/lib/python3.11/site-packages/kornia/utils/image.py:296\u001b[39m, in \u001b[36mperform_keep_shape_image.<locals>._wrapper\u001b[39m\u001b[34m(input, *args, **kwargs)\u001b[39m\n\u001b[32m    294\u001b[39m input_shape = \u001b[38;5;28minput\u001b[39m.shape\n\u001b[32m    295\u001b[39m \u001b[38;5;28minput\u001b[39m = _to_bchw(\u001b[38;5;28minput\u001b[39m)  \u001b[38;5;66;03m# view input as (B, C, H, W)\u001b[39;00m\n\u001b[32m--> \u001b[39m\u001b[32m296\u001b[39m output = \u001b[43mf\u001b[49m\u001b[43m(\u001b[49m\u001b[38;5;28;43minput\u001b[39;49m\u001b[43m,\u001b[49m\u001b[43m \u001b[49m\u001b[43m*\u001b[49m\u001b[43margs\u001b[49m\u001b[43m,\u001b[49m\u001b[43m \u001b[49m\u001b[43m*\u001b[49m\u001b[43m*\u001b[49m\u001b[43mkwargs\u001b[49m\u001b[43m)\u001b[49m\n\u001b[32m    297\u001b[39m \u001b[38;5;28;01mif\u001b[39;00m \u001b[38;5;28mlen\u001b[39m(input_shape) == \u001b[32m3\u001b[39m:\n\u001b[32m    298\u001b[39m     output = output[\u001b[32m0\u001b[39m]\n",
      "\u001b[36mFile \u001b[39m\u001b[32m~/miniforge3/envs/eval/lib/python3.11/site-packages/kornia/geometry/transform/affwarp.py:631\u001b[39m, in \u001b[36mresize\u001b[39m\u001b[34m(input, size, interpolation, align_corners, side, antialias)\u001b[39m\n\u001b[32m    627\u001b[39m         ks = ks[\u001b[32m0\u001b[39m], ks[\u001b[32m1\u001b[39m] + \u001b[32m1\u001b[39m\n\u001b[32m    629\u001b[39m     \u001b[38;5;28minput\u001b[39m = gaussian_blur2d(\u001b[38;5;28minput\u001b[39m, ks, sigmas)\n\u001b[32m--> \u001b[39m\u001b[32m631\u001b[39m output = \u001b[43mtorch\u001b[49m\u001b[43m.\u001b[49m\u001b[43mnn\u001b[49m\u001b[43m.\u001b[49m\u001b[43mfunctional\u001b[49m\u001b[43m.\u001b[49m\u001b[43minterpolate\u001b[49m\u001b[43m(\u001b[49m\u001b[38;5;28;43minput\u001b[39;49m\u001b[43m,\u001b[49m\u001b[43m \u001b[49m\u001b[43msize\u001b[49m\u001b[43m=\u001b[49m\u001b[43msize\u001b[49m\u001b[43m,\u001b[49m\u001b[43m \u001b[49m\u001b[43mmode\u001b[49m\u001b[43m=\u001b[49m\u001b[43minterpolation\u001b[49m\u001b[43m,\u001b[49m\u001b[43m \u001b[49m\u001b[43malign_corners\u001b[49m\u001b[43m=\u001b[49m\u001b[43malign_corners\u001b[49m\u001b[43m)\u001b[49m\n\u001b[32m    632\u001b[39m \u001b[38;5;28;01mreturn\u001b[39;00m output\n",
      "\u001b[36mFile \u001b[39m\u001b[32m~/miniforge3/envs/eval/lib/python3.11/site-packages/torch/nn/functional.py:4020\u001b[39m, in \u001b[36minterpolate\u001b[39m\u001b[34m(input, size, scale_factor, mode, align_corners, recompute_scale_factor, antialias)\u001b[39m\n\u001b[32m   4014\u001b[39m         \u001b[38;5;28;01mif\u001b[39;00m torch.are_deterministic_algorithms_enabled() \u001b[38;5;129;01mand\u001b[39;00m \u001b[38;5;28minput\u001b[39m.is_cuda:\n\u001b[32m   4015\u001b[39m             \u001b[38;5;66;03m# Use slow decomp whose backward will be in terms of index_put\u001b[39;00m\n\u001b[32m   4016\u001b[39m             \u001b[38;5;66;03m# importlib is required because the import cannot be top level\u001b[39;00m\n\u001b[32m   4017\u001b[39m             \u001b[38;5;66;03m# (cycle) and cannot be nested (TS doesn't support)\u001b[39;00m\n\u001b[32m   4018\u001b[39m             \u001b[38;5;28;01mreturn\u001b[39;00m importlib.import_module(\u001b[33m'\u001b[39m\u001b[33mtorch._decomp.decompositions\u001b[39m\u001b[33m'\u001b[39m).upsample_bilinear2d_vec(\n\u001b[32m   4019\u001b[39m                 \u001b[38;5;28minput\u001b[39m, output_size, align_corners, scale_factors)\n\u001b[32m-> \u001b[39m\u001b[32m4020\u001b[39m     \u001b[38;5;28;01mreturn\u001b[39;00m \u001b[43mtorch\u001b[49m\u001b[43m.\u001b[49m\u001b[43m_C\u001b[49m\u001b[43m.\u001b[49m\u001b[43m_nn\u001b[49m\u001b[43m.\u001b[49m\u001b[43mupsample_bilinear2d\u001b[49m\u001b[43m(\u001b[49m\u001b[38;5;28;43minput\u001b[39;49m\u001b[43m,\u001b[49m\u001b[43m \u001b[49m\u001b[43moutput_size\u001b[49m\u001b[43m,\u001b[49m\u001b[43m \u001b[49m\u001b[43malign_corners\u001b[49m\u001b[43m,\u001b[49m\u001b[43m \u001b[49m\u001b[43mscale_factors\u001b[49m\u001b[43m)\u001b[49m\n\u001b[32m   4021\u001b[39m \u001b[38;5;28;01mif\u001b[39;00m \u001b[38;5;28minput\u001b[39m.dim() == \u001b[32m5\u001b[39m \u001b[38;5;129;01mand\u001b[39;00m mode == \u001b[33m\"\u001b[39m\u001b[33mtrilinear\u001b[39m\u001b[33m\"\u001b[39m:\n\u001b[32m   4022\u001b[39m     \u001b[38;5;28;01massert\u001b[39;00m align_corners \u001b[38;5;129;01mis\u001b[39;00m \u001b[38;5;129;01mnot\u001b[39;00m \u001b[38;5;28;01mNone\u001b[39;00m\n",
      "\u001b[31mTypeError\u001b[39m: upsample_bilinear2d() received an invalid combination of arguments - got (Tensor, list, bool, NoneType), but expected one of:\n * (Tensor input, tuple of ints output_size, bool align_corners, tuple of floats scale_factors)\n      didn't match because some of the arguments have invalid types: (Tensor, !list of [ListConfig, ListConfig]!, bool, !NoneType!)\n * (Tensor input, tuple of ints output_size, bool align_corners, float scales_h, float scales_w, *, Tensor out)\n"
     ]
    }
   ],
   "source": [
    "ds[0]"
   ]
  },
  {
   "cell_type": "code",
   "execution_count": 14,
   "metadata": {},
   "outputs": [
    {
     "data": {
      "text/plain": [
       "RandomHorizontalFlip(p=0.5, p_batch=1.0, same_on_batch=False)"
      ]
     },
     "execution_count": 14,
     "metadata": {},
     "output_type": "execute_result"
    }
   ],
   "source": [
    "ds.transform[0]"
   ]
  },
  {
   "cell_type": "code",
   "execution_count": 35,
   "metadata": {},
   "outputs": [
    {
     "data": {
      "text/plain": [
       "torch.Size([3, 224, 224])"
      ]
     },
     "execution_count": 35,
     "metadata": {},
     "output_type": "execute_result"
    }
   ],
   "source": [
    "import kornia.augmentation as K\n",
    "\n",
    "x = torch.randn(3,224,224)\n",
    "K.RandomHorizontalFlip(p=0.5, keepdim=True)(x).shape"
   ]
  },
  {
   "cell_type": "code",
   "execution_count": 26,
   "metadata": {},
   "outputs": [
    {
     "data": {
      "text/plain": [
       "tensor([[[[-0.6115, -0.5512, -0.4908,  ...,  0.0644,  0.0038, -0.0569],\n",
       "          [-0.6548, -0.5952, -0.5357,  ...,  0.1033,  0.0449, -0.0134],\n",
       "          [-0.6980, -0.6393, -0.5807,  ...,  0.1421,  0.0861,  0.0301],\n",
       "          ...,\n",
       "          [ 1.3174,  1.2933,  1.2693,  ..., -2.0553, -2.0752, -2.0950],\n",
       "          [ 1.3602,  1.3345,  1.3088,  ..., -2.1427, -2.1649, -2.1871],\n",
       "          [ 1.4030,  1.3756,  1.3482,  ..., -2.2300, -2.2546, -2.2792]],\n",
       "\n",
       "         [[ 0.5719,  0.5066,  0.4413,  ..., -0.0731, -0.1169, -0.1608],\n",
       "          [ 0.5724,  0.5071,  0.4417,  ..., -0.0805, -0.1250, -0.1696],\n",
       "          [ 0.5729,  0.5075,  0.4422,  ..., -0.0880, -0.1331, -0.1783],\n",
       "          ...,\n",
       "          [ 0.0298,  0.0463,  0.0627,  ..., -0.1877, -0.1435, -0.0992],\n",
       "          [-0.0116,  0.0064,  0.0244,  ..., -0.2128, -0.1665, -0.1202],\n",
       "          [-0.0530, -0.0335, -0.0140,  ..., -0.2379, -0.1895, -0.1411]],\n",
       "\n",
       "         [[-0.3400, -0.2405, -0.1410,  ...,  1.3151,  1.4067,  1.4984],\n",
       "          [-0.3472, -0.2498, -0.1524,  ...,  1.3060,  1.3966,  1.4873],\n",
       "          [-0.3544, -0.2591, -0.1639,  ...,  1.2969,  1.3865,  1.4762],\n",
       "          ...,\n",
       "          [-0.9732, -0.9594, -0.9455,  ..., -0.2715, -0.2358, -0.2000],\n",
       "          [-0.9472, -0.9339, -0.9205,  ..., -0.2505, -0.2119, -0.1733],\n",
       "          [-0.9213, -0.9084, -0.8955,  ..., -0.2296, -0.1881, -0.1466]]]])"
      ]
     },
     "execution_count": 26,
     "metadata": {},
     "output_type": "execute_result"
    }
   ],
   "source": [
    "import kornia.augmentation as K\n",
    "\n",
    "augm = K.RandomResizedCrop(\n",
    "    size=[224, 224],\n",
    "    scale=[0.08, 1.0],\n",
    ")\n",
    "\n",
    "augm(torch.randn(3,20,20))"
   ]
  },
  {
   "cell_type": "code",
   "execution_count": 22,
   "metadata": {},
   "outputs": [
    {
     "ename": "TypeError",
     "evalue": "upsample_bilinear2d() received an invalid combination of arguments - got (Tensor, list, bool, NoneType), but expected one of:\n * (Tensor input, tuple of ints output_size, bool align_corners, tuple of floats scale_factors)\n      didn't match because some of the arguments have invalid types: (Tensor, !list of [ListConfig, ListConfig]!, bool, !NoneType!)\n * (Tensor input, tuple of ints output_size, bool align_corners, float scales_h, float scales_w, *, Tensor out)\n",
     "output_type": "error",
     "traceback": [
      "\u001b[31m---------------------------------------------------------------------------\u001b[39m",
      "\u001b[31mTypeError\u001b[39m                                 Traceback (most recent call last)",
      "\u001b[36mCell\u001b[39m\u001b[36m \u001b[39m\u001b[32mIn[22]\u001b[39m\u001b[32m, line 1\u001b[39m\n\u001b[32m----> \u001b[39m\u001b[32m1\u001b[39m \u001b[43mds\u001b[49m\u001b[43m.\u001b[49m\u001b[43mtransform\u001b[49m\u001b[43m[\u001b[49m\u001b[32;43m2\u001b[39;49m\u001b[43m]\u001b[49m\u001b[43m(\u001b[49m\u001b[43mtorch\u001b[49m\u001b[43m.\u001b[49m\u001b[43mrandn\u001b[49m\u001b[43m(\u001b[49m\u001b[32;43m3\u001b[39;49m\u001b[43m,\u001b[49m\u001b[32;43m20\u001b[39;49m\u001b[43m,\u001b[49m\u001b[32;43m20\u001b[39;49m\u001b[43m)\u001b[49m\u001b[43m)\u001b[49m\n",
      "\u001b[36mFile \u001b[39m\u001b[32m~/miniforge3/envs/eval/lib/python3.11/site-packages/kornia/core/module.py:302\u001b[39m, in \u001b[36mImageModule.__call__\u001b[39m\u001b[34m(self, input_names_to_handle, output_type, *inputs, **kwargs)\u001b[39m\n\u001b[32m    298\u001b[39m \u001b[38;5;28;01mif\u001b[39;00m \u001b[38;5;129;01mnot\u001b[39;00m \u001b[38;5;28mself\u001b[39m._disable_features:\n\u001b[32m    299\u001b[39m     decorated_forward = \u001b[38;5;28mself\u001b[39m.convert_input_output(\n\u001b[32m    300\u001b[39m         input_names_to_handle=input_names_to_handle, output_type=output_type\n\u001b[32m    301\u001b[39m     )(\u001b[38;5;28msuper\u001b[39m().\u001b[34m__call__\u001b[39m)\n\u001b[32m--> \u001b[39m\u001b[32m302\u001b[39m     _output_image = \u001b[43mdecorated_forward\u001b[49m\u001b[43m(\u001b[49m\u001b[43m*\u001b[49m\u001b[43minputs\u001b[49m\u001b[43m,\u001b[49m\u001b[43m \u001b[49m\u001b[43m*\u001b[49m\u001b[43m*\u001b[49m\u001b[43mkwargs\u001b[49m\u001b[43m)\u001b[49m\n\u001b[32m    303\u001b[39m     \u001b[38;5;28;01mif\u001b[39;00m output_type == \u001b[33m\"\u001b[39m\u001b[33mtensor\u001b[39m\u001b[33m\"\u001b[39m:\n\u001b[32m    304\u001b[39m         \u001b[38;5;28mself\u001b[39m._output_image = \u001b[38;5;28mself\u001b[39m._detach_tensor_to_cpu(_output_image)\n",
      "\u001b[36mFile \u001b[39m\u001b[32m~/miniforge3/envs/eval/lib/python3.11/site-packages/kornia/core/module.py:81\u001b[39m, in \u001b[36mImageModuleMixIn.convert_input_output.<locals>.decorator.<locals>.wrapper\u001b[39m\u001b[34m(*args, **kwargs)\u001b[39m\n\u001b[32m     78\u001b[39m             kwargs[name] = \u001b[38;5;28mself\u001b[39m.to_tensor(value)\n\u001b[32m     80\u001b[39m \u001b[38;5;66;03m# Call the actual forward method\u001b[39;00m\n\u001b[32m---> \u001b[39m\u001b[32m81\u001b[39m tensor_outputs = \u001b[43mfunc\u001b[49m\u001b[43m(\u001b[49m\u001b[43m*\u001b[49m\u001b[43margs\u001b[49m\u001b[43m,\u001b[49m\u001b[43m \u001b[49m\u001b[43m*\u001b[49m\u001b[43m*\u001b[49m\u001b[43mkwargs\u001b[49m\u001b[43m)\u001b[49m\n\u001b[32m     83\u001b[39m \u001b[38;5;28;01mif\u001b[39;00m \u001b[38;5;129;01mnot\u001b[39;00m \u001b[38;5;28misinstance\u001b[39m(tensor_outputs, (\u001b[38;5;28mtuple\u001b[39m,)):\n\u001b[32m     84\u001b[39m     tensor_outputs = (tensor_outputs,)\n",
      "\u001b[36mFile \u001b[39m\u001b[32m~/miniforge3/envs/eval/lib/python3.11/site-packages/torch/nn/modules/module.py:1518\u001b[39m, in \u001b[36mModule._wrapped_call_impl\u001b[39m\u001b[34m(self, *args, **kwargs)\u001b[39m\n\u001b[32m   1516\u001b[39m     \u001b[38;5;28;01mreturn\u001b[39;00m \u001b[38;5;28mself\u001b[39m._compiled_call_impl(*args, **kwargs)  \u001b[38;5;66;03m# type: ignore[misc]\u001b[39;00m\n\u001b[32m   1517\u001b[39m \u001b[38;5;28;01melse\u001b[39;00m:\n\u001b[32m-> \u001b[39m\u001b[32m1518\u001b[39m     \u001b[38;5;28;01mreturn\u001b[39;00m \u001b[38;5;28;43mself\u001b[39;49m\u001b[43m.\u001b[49m\u001b[43m_call_impl\u001b[49m\u001b[43m(\u001b[49m\u001b[43m*\u001b[49m\u001b[43margs\u001b[49m\u001b[43m,\u001b[49m\u001b[43m \u001b[49m\u001b[43m*\u001b[49m\u001b[43m*\u001b[49m\u001b[43mkwargs\u001b[49m\u001b[43m)\u001b[49m\n",
      "\u001b[36mFile \u001b[39m\u001b[32m~/miniforge3/envs/eval/lib/python3.11/site-packages/torch/nn/modules/module.py:1527\u001b[39m, in \u001b[36mModule._call_impl\u001b[39m\u001b[34m(self, *args, **kwargs)\u001b[39m\n\u001b[32m   1522\u001b[39m \u001b[38;5;66;03m# If we don't have any hooks, we want to skip the rest of the logic in\u001b[39;00m\n\u001b[32m   1523\u001b[39m \u001b[38;5;66;03m# this function, and just call forward.\u001b[39;00m\n\u001b[32m   1524\u001b[39m \u001b[38;5;28;01mif\u001b[39;00m \u001b[38;5;129;01mnot\u001b[39;00m (\u001b[38;5;28mself\u001b[39m._backward_hooks \u001b[38;5;129;01mor\u001b[39;00m \u001b[38;5;28mself\u001b[39m._backward_pre_hooks \u001b[38;5;129;01mor\u001b[39;00m \u001b[38;5;28mself\u001b[39m._forward_hooks \u001b[38;5;129;01mor\u001b[39;00m \u001b[38;5;28mself\u001b[39m._forward_pre_hooks\n\u001b[32m   1525\u001b[39m         \u001b[38;5;129;01mor\u001b[39;00m _global_backward_pre_hooks \u001b[38;5;129;01mor\u001b[39;00m _global_backward_hooks\n\u001b[32m   1526\u001b[39m         \u001b[38;5;129;01mor\u001b[39;00m _global_forward_hooks \u001b[38;5;129;01mor\u001b[39;00m _global_forward_pre_hooks):\n\u001b[32m-> \u001b[39m\u001b[32m1527\u001b[39m     \u001b[38;5;28;01mreturn\u001b[39;00m \u001b[43mforward_call\u001b[49m\u001b[43m(\u001b[49m\u001b[43m*\u001b[49m\u001b[43margs\u001b[49m\u001b[43m,\u001b[49m\u001b[43m \u001b[49m\u001b[43m*\u001b[49m\u001b[43m*\u001b[49m\u001b[43mkwargs\u001b[49m\u001b[43m)\u001b[49m\n\u001b[32m   1529\u001b[39m \u001b[38;5;28;01mtry\u001b[39;00m:\n\u001b[32m   1530\u001b[39m     result = \u001b[38;5;28;01mNone\u001b[39;00m\n",
      "\u001b[36mFile \u001b[39m\u001b[32m~/miniforge3/envs/eval/lib/python3.11/site-packages/kornia/augmentation/base.py:258\u001b[39m, in \u001b[36m_BasicAugmentationBase.forward\u001b[39m\u001b[34m(self, input, params, **kwargs)\u001b[39m\n\u001b[32m    254\u001b[39m     params[\u001b[33m\"\u001b[39m\u001b[33mbatch_prob\u001b[39m\u001b[33m\"\u001b[39m] = tensor([\u001b[38;5;28;01mTrue\u001b[39;00m] * batch_shape[\u001b[32m0\u001b[39m])\n\u001b[32m    256\u001b[39m params, flags = \u001b[38;5;28mself\u001b[39m._process_kwargs_to_params_and_flags(params, \u001b[38;5;28mself\u001b[39m.flags, **kwargs)\n\u001b[32m--> \u001b[39m\u001b[32m258\u001b[39m output = \u001b[38;5;28;43mself\u001b[39;49m\u001b[43m.\u001b[49m\u001b[43mapply_func\u001b[49m\u001b[43m(\u001b[49m\u001b[43min_tensor\u001b[49m\u001b[43m,\u001b[49m\u001b[43m \u001b[49m\u001b[43mparams\u001b[49m\u001b[43m,\u001b[49m\u001b[43m \u001b[49m\u001b[43mflags\u001b[49m\u001b[43m)\u001b[49m\n\u001b[32m    259\u001b[39m \u001b[38;5;28;01mreturn\u001b[39;00m \u001b[38;5;28mself\u001b[39m.transform_output_tensor(output, input_shape) \u001b[38;5;28;01mif\u001b[39;00m \u001b[38;5;28mself\u001b[39m.keepdim \u001b[38;5;28;01melse\u001b[39;00m output\n",
      "\u001b[36mFile \u001b[39m\u001b[32m~/miniforge3/envs/eval/lib/python3.11/site-packages/kornia/augmentation/_2d/base.py:148\u001b[39m, in \u001b[36mRigidAffineAugmentationBase2D.apply_func\u001b[39m\u001b[34m(self, in_tensor, params, flags)\u001b[39m\n\u001b[32m    145\u001b[39m     flags = \u001b[38;5;28mself\u001b[39m.flags\n\u001b[32m    147\u001b[39m trans_matrix = \u001b[38;5;28mself\u001b[39m.generate_transformation_matrix(in_tensor, params, flags)\n\u001b[32m--> \u001b[39m\u001b[32m148\u001b[39m output = \u001b[38;5;28;43mself\u001b[39;49m\u001b[43m.\u001b[49m\u001b[43mtransform_inputs\u001b[49m\u001b[43m(\u001b[49m\u001b[43min_tensor\u001b[49m\u001b[43m,\u001b[49m\u001b[43m \u001b[49m\u001b[43mparams\u001b[49m\u001b[43m,\u001b[49m\u001b[43m \u001b[49m\u001b[43mflags\u001b[49m\u001b[43m,\u001b[49m\u001b[43m \u001b[49m\u001b[43mtrans_matrix\u001b[49m\u001b[43m)\u001b[49m\n\u001b[32m    149\u001b[39m \u001b[38;5;28mself\u001b[39m._transform_matrix = trans_matrix\n\u001b[32m    151\u001b[39m \u001b[38;5;28;01mreturn\u001b[39;00m output\n",
      "\u001b[36mFile \u001b[39m\u001b[32m~/miniforge3/envs/eval/lib/python3.11/site-packages/kornia/augmentation/base.py:318\u001b[39m, in \u001b[36m_AugmentationBase.transform_inputs\u001b[39m\u001b[34m(self, input, params, flags, transform, **kwargs)\u001b[39m\n\u001b[32m    316\u001b[39m \u001b[38;5;28mself\u001b[39m.validate_tensor(in_tensor)\n\u001b[32m    317\u001b[39m \u001b[38;5;28;01mif\u001b[39;00m to_apply.all():\n\u001b[32m--> \u001b[39m\u001b[32m318\u001b[39m     output = \u001b[38;5;28;43mself\u001b[39;49m\u001b[43m.\u001b[49m\u001b[43mapply_transform\u001b[49m\u001b[43m(\u001b[49m\u001b[43min_tensor\u001b[49m\u001b[43m,\u001b[49m\u001b[43m \u001b[49m\u001b[43mparams\u001b[49m\u001b[43m,\u001b[49m\u001b[43m \u001b[49m\u001b[43mflags\u001b[49m\u001b[43m,\u001b[49m\u001b[43m \u001b[49m\u001b[43mtransform\u001b[49m\u001b[43m=\u001b[49m\u001b[43mtransform\u001b[49m\u001b[43m)\u001b[49m\n\u001b[32m    319\u001b[39m \u001b[38;5;28;01melif\u001b[39;00m \u001b[38;5;129;01mnot\u001b[39;00m to_apply.any():\n\u001b[32m    320\u001b[39m     output = \u001b[38;5;28mself\u001b[39m.apply_non_transform(in_tensor, params, flags, transform=transform)\n",
      "\u001b[36mFile \u001b[39m\u001b[32m~/miniforge3/envs/eval/lib/python3.11/site-packages/kornia/augmentation/_2d/geometric/resized_crop.py:127\u001b[39m, in \u001b[36mRandomResizedCrop.apply_transform\u001b[39m\u001b[34m(self, input, params, flags, transform)\u001b[39m\n\u001b[32m    118\u001b[39m     \u001b[38;5;28;01mreturn\u001b[39;00m crop_by_transform_mat(\n\u001b[32m    119\u001b[39m         \u001b[38;5;28minput\u001b[39m,\n\u001b[32m    120\u001b[39m         transform,\n\u001b[32m   (...)\u001b[39m\u001b[32m    124\u001b[39m         align_corners=flags[\u001b[33m\"\u001b[39m\u001b[33malign_corners\u001b[39m\u001b[33m\"\u001b[39m],\n\u001b[32m    125\u001b[39m     )\n\u001b[32m    126\u001b[39m \u001b[38;5;28;01mif\u001b[39;00m flags[\u001b[33m\"\u001b[39m\u001b[33mcropping_mode\u001b[39m\u001b[33m\"\u001b[39m] == \u001b[33m\"\u001b[39m\u001b[33mslice\u001b[39m\u001b[33m\"\u001b[39m:  \u001b[38;5;66;03m# uses advanced slicing to crop\u001b[39;00m\n\u001b[32m--> \u001b[39m\u001b[32m127\u001b[39m     \u001b[38;5;28;01mreturn\u001b[39;00m \u001b[43mcrop_by_indices\u001b[49m\u001b[43m(\u001b[49m\n\u001b[32m    128\u001b[39m \u001b[43m        \u001b[49m\u001b[38;5;28;43minput\u001b[39;49m\u001b[43m,\u001b[49m\n\u001b[32m    129\u001b[39m \u001b[43m        \u001b[49m\u001b[43mparams\u001b[49m\u001b[43m[\u001b[49m\u001b[33;43m\"\u001b[39;49m\u001b[33;43msrc\u001b[39;49m\u001b[33;43m\"\u001b[39;49m\u001b[43m]\u001b[49m\u001b[43m,\u001b[49m\n\u001b[32m    130\u001b[39m \u001b[43m        \u001b[49m\u001b[43mflags\u001b[49m\u001b[43m[\u001b[49m\u001b[33;43m\"\u001b[39;49m\u001b[33;43msize\u001b[39;49m\u001b[33;43m\"\u001b[39;49m\u001b[43m]\u001b[49m\u001b[43m,\u001b[49m\n\u001b[32m    131\u001b[39m \u001b[43m        \u001b[49m\u001b[43minterpolation\u001b[49m\u001b[43m=\u001b[49m\u001b[43mflags\u001b[49m\u001b[43m[\u001b[49m\u001b[33;43m\"\u001b[39;49m\u001b[33;43mresample\u001b[39;49m\u001b[33;43m\"\u001b[39;49m\u001b[43m]\u001b[49m\u001b[43m.\u001b[49m\u001b[43mname\u001b[49m\u001b[43m.\u001b[49m\u001b[43mlower\u001b[49m\u001b[43m(\u001b[49m\u001b[43m)\u001b[49m\u001b[43m,\u001b[49m\n\u001b[32m    132\u001b[39m \u001b[43m        \u001b[49m\u001b[43malign_corners\u001b[49m\u001b[43m=\u001b[49m\u001b[43mflags\u001b[49m\u001b[43m[\u001b[49m\u001b[33;43m\"\u001b[39;49m\u001b[33;43malign_corners\u001b[39;49m\u001b[33;43m\"\u001b[39;49m\u001b[43m]\u001b[49m\u001b[43m,\u001b[49m\n\u001b[32m    133\u001b[39m \u001b[43m    \u001b[49m\u001b[43m)\u001b[49m\n\u001b[32m    134\u001b[39m \u001b[38;5;28;01mraise\u001b[39;00m \u001b[38;5;167;01mNotImplementedError\u001b[39;00m(\u001b[33mf\u001b[39m\u001b[33m\"\u001b[39m\u001b[33mNot supported type: \u001b[39m\u001b[38;5;132;01m{\u001b[39;00mflags[\u001b[33m'\u001b[39m\u001b[33mcropping_mode\u001b[39m\u001b[33m'\u001b[39m]\u001b[38;5;132;01m}\u001b[39;00m\u001b[33m.\u001b[39m\u001b[33m\"\u001b[39m)\n",
      "\u001b[36mFile \u001b[39m\u001b[32m~/miniforge3/envs/eval/lib/python3.11/site-packages/kornia/geometry/transform/crop2d.py:355\u001b[39m, in \u001b[36mcrop_by_indices\u001b[39m\u001b[34m(input_tensor, src_box, size, interpolation, align_corners, antialias, shape_compensation)\u001b[39m\n\u001b[32m    353\u001b[39m     out = input_tensor[..., \u001b[38;5;28mint\u001b[39m(y1[\u001b[32m0\u001b[39m]) : \u001b[38;5;28mint\u001b[39m(y2[\u001b[32m0\u001b[39m]), \u001b[38;5;28mint\u001b[39m(x1[\u001b[32m0\u001b[39m]) : \u001b[38;5;28mint\u001b[39m(x2[\u001b[32m0\u001b[39m])]\n\u001b[32m    354\u001b[39m     \u001b[38;5;28;01mif\u001b[39;00m size \u001b[38;5;129;01mis\u001b[39;00m \u001b[38;5;129;01mnot\u001b[39;00m \u001b[38;5;28;01mNone\u001b[39;00m \u001b[38;5;129;01mand\u001b[39;00m out.shape[-\u001b[32m2\u001b[39m:] != size:\n\u001b[32m--> \u001b[39m\u001b[32m355\u001b[39m         \u001b[38;5;28;01mreturn\u001b[39;00m \u001b[43mresize\u001b[49m\u001b[43m(\u001b[49m\n\u001b[32m    356\u001b[39m \u001b[43m            \u001b[49m\u001b[43mout\u001b[49m\u001b[43m,\u001b[49m\u001b[43m \u001b[49m\u001b[43msize\u001b[49m\u001b[43m,\u001b[49m\u001b[43m \u001b[49m\u001b[43minterpolation\u001b[49m\u001b[43m=\u001b[49m\u001b[43minterpolation\u001b[49m\u001b[43m,\u001b[49m\u001b[43m \u001b[49m\u001b[43malign_corners\u001b[49m\u001b[43m=\u001b[49m\u001b[43malign_corners\u001b[49m\u001b[43m,\u001b[49m\u001b[43m \u001b[49m\u001b[43mside\u001b[49m\u001b[43m=\u001b[49m\u001b[33;43m\"\u001b[39;49m\u001b[33;43mshort\u001b[39;49m\u001b[33;43m\"\u001b[39;49m\u001b[43m,\u001b[49m\u001b[43m \u001b[49m\u001b[43mantialias\u001b[49m\u001b[43m=\u001b[49m\u001b[43mantialias\u001b[49m\n\u001b[32m    357\u001b[39m \u001b[43m        \u001b[49m\u001b[43m)\u001b[49m\n\u001b[32m    359\u001b[39m \u001b[38;5;28;01mif\u001b[39;00m size \u001b[38;5;129;01mis\u001b[39;00m \u001b[38;5;28;01mNone\u001b[39;00m:\n\u001b[32m    360\u001b[39m     h, w = infer_bbox_shape(src)\n",
      "\u001b[36mFile \u001b[39m\u001b[32m~/miniforge3/envs/eval/lib/python3.11/site-packages/kornia/utils/image.py:296\u001b[39m, in \u001b[36mperform_keep_shape_image.<locals>._wrapper\u001b[39m\u001b[34m(input, *args, **kwargs)\u001b[39m\n\u001b[32m    294\u001b[39m input_shape = \u001b[38;5;28minput\u001b[39m.shape\n\u001b[32m    295\u001b[39m \u001b[38;5;28minput\u001b[39m = _to_bchw(\u001b[38;5;28minput\u001b[39m)  \u001b[38;5;66;03m# view input as (B, C, H, W)\u001b[39;00m\n\u001b[32m--> \u001b[39m\u001b[32m296\u001b[39m output = \u001b[43mf\u001b[49m\u001b[43m(\u001b[49m\u001b[38;5;28;43minput\u001b[39;49m\u001b[43m,\u001b[49m\u001b[43m \u001b[49m\u001b[43m*\u001b[49m\u001b[43margs\u001b[49m\u001b[43m,\u001b[49m\u001b[43m \u001b[49m\u001b[43m*\u001b[49m\u001b[43m*\u001b[49m\u001b[43mkwargs\u001b[49m\u001b[43m)\u001b[49m\n\u001b[32m    297\u001b[39m \u001b[38;5;28;01mif\u001b[39;00m \u001b[38;5;28mlen\u001b[39m(input_shape) == \u001b[32m3\u001b[39m:\n\u001b[32m    298\u001b[39m     output = output[\u001b[32m0\u001b[39m]\n",
      "\u001b[36mFile \u001b[39m\u001b[32m~/miniforge3/envs/eval/lib/python3.11/site-packages/kornia/geometry/transform/affwarp.py:631\u001b[39m, in \u001b[36mresize\u001b[39m\u001b[34m(input, size, interpolation, align_corners, side, antialias)\u001b[39m\n\u001b[32m    627\u001b[39m         ks = ks[\u001b[32m0\u001b[39m], ks[\u001b[32m1\u001b[39m] + \u001b[32m1\u001b[39m\n\u001b[32m    629\u001b[39m     \u001b[38;5;28minput\u001b[39m = gaussian_blur2d(\u001b[38;5;28minput\u001b[39m, ks, sigmas)\n\u001b[32m--> \u001b[39m\u001b[32m631\u001b[39m output = \u001b[43mtorch\u001b[49m\u001b[43m.\u001b[49m\u001b[43mnn\u001b[49m\u001b[43m.\u001b[49m\u001b[43mfunctional\u001b[49m\u001b[43m.\u001b[49m\u001b[43minterpolate\u001b[49m\u001b[43m(\u001b[49m\u001b[38;5;28;43minput\u001b[39;49m\u001b[43m,\u001b[49m\u001b[43m \u001b[49m\u001b[43msize\u001b[49m\u001b[43m=\u001b[49m\u001b[43msize\u001b[49m\u001b[43m,\u001b[49m\u001b[43m \u001b[49m\u001b[43mmode\u001b[49m\u001b[43m=\u001b[49m\u001b[43minterpolation\u001b[49m\u001b[43m,\u001b[49m\u001b[43m \u001b[49m\u001b[43malign_corners\u001b[49m\u001b[43m=\u001b[49m\u001b[43malign_corners\u001b[49m\u001b[43m)\u001b[49m\n\u001b[32m    632\u001b[39m \u001b[38;5;28;01mreturn\u001b[39;00m output\n",
      "\u001b[36mFile \u001b[39m\u001b[32m~/miniforge3/envs/eval/lib/python3.11/site-packages/torch/nn/functional.py:4020\u001b[39m, in \u001b[36minterpolate\u001b[39m\u001b[34m(input, size, scale_factor, mode, align_corners, recompute_scale_factor, antialias)\u001b[39m\n\u001b[32m   4014\u001b[39m         \u001b[38;5;28;01mif\u001b[39;00m torch.are_deterministic_algorithms_enabled() \u001b[38;5;129;01mand\u001b[39;00m \u001b[38;5;28minput\u001b[39m.is_cuda:\n\u001b[32m   4015\u001b[39m             \u001b[38;5;66;03m# Use slow decomp whose backward will be in terms of index_put\u001b[39;00m\n\u001b[32m   4016\u001b[39m             \u001b[38;5;66;03m# importlib is required because the import cannot be top level\u001b[39;00m\n\u001b[32m   4017\u001b[39m             \u001b[38;5;66;03m# (cycle) and cannot be nested (TS doesn't support)\u001b[39;00m\n\u001b[32m   4018\u001b[39m             \u001b[38;5;28;01mreturn\u001b[39;00m importlib.import_module(\u001b[33m'\u001b[39m\u001b[33mtorch._decomp.decompositions\u001b[39m\u001b[33m'\u001b[39m).upsample_bilinear2d_vec(\n\u001b[32m   4019\u001b[39m                 \u001b[38;5;28minput\u001b[39m, output_size, align_corners, scale_factors)\n\u001b[32m-> \u001b[39m\u001b[32m4020\u001b[39m     \u001b[38;5;28;01mreturn\u001b[39;00m \u001b[43mtorch\u001b[49m\u001b[43m.\u001b[49m\u001b[43m_C\u001b[49m\u001b[43m.\u001b[49m\u001b[43m_nn\u001b[49m\u001b[43m.\u001b[49m\u001b[43mupsample_bilinear2d\u001b[49m\u001b[43m(\u001b[49m\u001b[38;5;28;43minput\u001b[39;49m\u001b[43m,\u001b[49m\u001b[43m \u001b[49m\u001b[43moutput_size\u001b[49m\u001b[43m,\u001b[49m\u001b[43m \u001b[49m\u001b[43malign_corners\u001b[49m\u001b[43m,\u001b[49m\u001b[43m \u001b[49m\u001b[43mscale_factors\u001b[49m\u001b[43m)\u001b[49m\n\u001b[32m   4021\u001b[39m \u001b[38;5;28;01mif\u001b[39;00m \u001b[38;5;28minput\u001b[39m.dim() == \u001b[32m5\u001b[39m \u001b[38;5;129;01mand\u001b[39;00m mode == \u001b[33m\"\u001b[39m\u001b[33mtrilinear\u001b[39m\u001b[33m\"\u001b[39m:\n\u001b[32m   4022\u001b[39m     \u001b[38;5;28;01massert\u001b[39;00m align_corners \u001b[38;5;129;01mis\u001b[39;00m \u001b[38;5;129;01mnot\u001b[39;00m \u001b[38;5;28;01mNone\u001b[39;00m\n",
      "\u001b[31mTypeError\u001b[39m: upsample_bilinear2d() received an invalid combination of arguments - got (Tensor, list, bool, NoneType), but expected one of:\n * (Tensor input, tuple of ints output_size, bool align_corners, tuple of floats scale_factors)\n      didn't match because some of the arguments have invalid types: (Tensor, !list of [ListConfig, ListConfig]!, bool, !NoneType!)\n * (Tensor input, tuple of ints output_size, bool align_corners, float scales_h, float scales_w, *, Tensor out)\n"
     ]
    }
   ],
   "source": [
    "ds.transform[2](torch.randn(3,20,20))"
   ]
  },
  {
   "cell_type": "code",
   "execution_count": 25,
   "metadata": {},
   "outputs": [],
   "source": [
    "import geobench\n",
    "\n",
    "task_iter = geobench.task_iterator(benchmark_name='classification_v1.0')\n",
    "\n",
    "tasks = {task.dataset_name: task for task in task_iter}\n",
    "task = tasks.get('m-eurosat')"
   ]
  },
  {
   "cell_type": "code",
   "execution_count": 3,
   "metadata": {},
   "outputs": [
    {
     "ename": "NameError",
     "evalue": "name 'task' is not defined",
     "output_type": "error",
     "traceback": [
      "\u001b[31m---------------------------------------------------------------------------\u001b[39m",
      "\u001b[31mNameError\u001b[39m                                 Traceback (most recent call last)",
      "\u001b[36mCell\u001b[39m\u001b[36m \u001b[39m\u001b[32mIn[3]\u001b[39m\u001b[32m, line 1\u001b[39m\n\u001b[32m----> \u001b[39m\u001b[32m1\u001b[39m \u001b[43mtask\u001b[49m.get_dataset().normalization_stats()\n",
      "\u001b[31mNameError\u001b[39m: name 'task' is not defined"
     ]
    }
   ],
   "source": [
    "task.get_dataset().normalization_stats()"
   ]
  },
  {
   "cell_type": "code",
   "execution_count": 10,
   "metadata": {},
   "outputs": [
    {
     "data": {
      "text/plain": [
       "({'imgs': tensor([[[[ 1.5981,  1.5981,  1.5981,  ...,  1.3398,  1.1922,  1.1922],\n",
       "            [ 1.5981,  1.5981,  1.6351,  ...,  1.1922,  1.0077,  1.0077],\n",
       "            [ 1.5243,  1.6351,  1.6351,  ...,  1.1922,  1.0077,  1.0077],\n",
       "            ...,\n",
       "            [ 1.1738,  1.1738,  1.3214,  ..., -0.2839, -0.2839, -0.2839],\n",
       "            [ 0.9708,  0.9708,  1.2476,  ..., -0.2839, -0.2839, -0.2839],\n",
       "            [ 0.9708,  0.9708,  1.2476,  ..., -0.3577, -0.3577, -0.3761]],\n",
       "  \n",
       "           [[ 1.5397,  1.5397,  1.5397,  ...,  1.2497,  1.0841,  1.0841],\n",
       "            [ 1.5397,  1.5397,  1.5604,  ...,  1.0841,  0.8977,  0.8977],\n",
       "            [ 1.5190,  1.5604,  1.5604,  ...,  1.0841,  0.8977,  0.8977],\n",
       "            ...,\n",
       "            [ 1.1462,  1.1462,  1.2912,  ..., -0.1793, -0.1793, -0.1793],\n",
       "            [ 0.9598,  0.9598,  1.2290,  ..., -0.1793, -0.1793, -0.1793],\n",
       "            [ 0.9598,  0.9598,  1.2290,  ..., -0.2208, -0.2208, -0.2622]],\n",
       "  \n",
       "           [[ 1.5530,  1.5530,  1.5530,  ...,  1.2172,  1.0605,  1.0605],\n",
       "            [ 1.5530,  1.5530,  1.5754,  ...,  1.0605,  0.9038,  0.9038],\n",
       "            [ 1.4859,  1.5754,  1.5754,  ...,  1.0605,  0.9038,  0.9038],\n",
       "            ...,\n",
       "            [ 1.2172,  1.2172,  1.3515,  ...,  0.0531,  0.0531,  0.0531],\n",
       "            [ 1.0157,  1.0157,  1.2620,  ...,  0.0531,  0.0531,  0.0531],\n",
       "            [ 1.0157,  1.0157,  1.2620,  ...,  0.0531,  0.0531, -0.0365]]]]),\n",
       "  'chn_ids': tensor([[664,  11],\n",
       "          [559,  12],\n",
       "          [492,  23]])},\n",
       " tensor(0))"
      ]
     },
     "execution_count": 10,
     "metadata": {},
     "output_type": "execute_result"
    }
   ],
   "source": [
    "from geobreeze.factory import make_dataset\n",
    "\n",
    "ds = make_dataset(dict(\n",
    "    _target_ = 'GeoBenchDataset',\n",
    "    ds_name = 'm-pv4ger',\n",
    "    split = 'train',\n",
    "))\n",
    "ds[0]"
   ]
  },
  {
   "cell_type": "code",
   "execution_count": 13,
   "metadata": {},
   "outputs": [
    {
     "data": {
      "text/plain": [
       "['train', 'valid', 'test']"
      ]
     },
     "execution_count": 13,
     "metadata": {},
     "output_type": "execute_result"
    }
   ],
   "source": [
    "ds.dataset.list_splits()"
   ]
  }
 ],
 "metadata": {
  "kernelspec": {
   "display_name": "eval",
   "language": "python",
   "name": "python3"
  },
  "language_info": {
   "codemirror_mode": {
    "name": "ipython",
    "version": 3
   },
   "file_extension": ".py",
   "mimetype": "text/x-python",
   "name": "python",
   "nbconvert_exporter": "python",
   "pygments_lexer": "ipython3",
   "version": "3.11.11"
  }
 },
 "nbformat": 4,
 "nbformat_minor": 2
}
